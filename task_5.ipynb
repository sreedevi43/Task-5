{
  "nbformat": 4,
  "nbformat_minor": 0,
  "metadata": {
    "colab": {
      "private_outputs": true,
      "provenance": []
    },
    "kernelspec": {
      "name": "python3",
      "display_name": "Python 3"
    },
    "language_info": {
      "name": "python"
    }
  },
  "cells": [
    {
      "cell_type": "code",
      "execution_count": null,
      "metadata": {
        "id": "5vEnH6GQBNTK"
      },
      "outputs": [],
      "source": [
        "import warnings\n",
        "warnings.filterwarnings('ignore')"
      ]
    },
    {
      "cell_type": "code",
      "source": [
        "import pandas as pd\n",
        "import numpy as np\n",
        "import matplotlib.pyplot as plt\n",
        "import seaborn as sns\n",
        "from IPython.display import display, Markdown"
      ],
      "metadata": {
        "id": "82V8Eog6BgJn"
      },
      "execution_count": null,
      "outputs": []
    },
    {
      "cell_type": "code",
      "source": [
        "sns.set(style='whitegrid')"
      ],
      "metadata": {
        "id": "aZDFYSlYBk7z"
      },
      "execution_count": null,
      "outputs": []
    },
    {
      "cell_type": "code",
      "source": [
        "# 1) Load data\n",
        "df = pd.read_csv('train.csv')\n",
        "df_original = df.copy()\n",
        "print('Loaded dataset shape:', df.shape)"
      ],
      "metadata": {
        "id": "QK7AY0VtBk4V"
      },
      "execution_count": null,
      "outputs": []
    },
    {
      "cell_type": "code",
      "source": [
        "print('\\nColumns:')\n",
        "print(df.columns.tolist())"
      ],
      "metadata": {
        "id": "XzXmrKb4B05S"
      },
      "execution_count": null,
      "outputs": []
    },
    {
      "cell_type": "code",
      "source": [
        "# 2) Quick info & summary statistics\n",
        "\n",
        "\n",
        "print('--- INFO ---')\n",
        "print(df.info())\n",
        "\n",
        "print('\\n--- DESCRIBE (numeric) ---')\n",
        "display(df.describe())\n",
        "\n",
        "print('\\n--- DESCRIBE (object) ---')\n",
        "display(df.describe(include=['O']))\n"
      ],
      "metadata": {
        "id": "-MhQQLFiB4O5"
      },
      "execution_count": null,
      "outputs": []
    },
    {
      "cell_type": "code",
      "source": [
        "# Missing values\n",
        "missing = df.isnull().sum().sort_values(ascending=False)\n",
        "missing_pct = (df.isnull().mean() * 100).sort_values(ascending=False)\n",
        "missing_table = pd.concat([missing, missing_pct], axis=1)\n",
        "missing_table.columns = ['missing_count', 'missing_pct']\n",
        "missing_table"
      ],
      "metadata": {
        "id": "YSVSKphXBk1V"
      },
      "execution_count": null,
      "outputs": []
    },
    {
      "cell_type": "code",
      "source": [
        "# 3) Univariate analysis\n",
        "#  distributions of key columns: `Survived`, `Pclass`, `Sex`, `Age`, `Fare`, `Embarked`.\n",
        "plt.figure(figsize=(6,4))\n",
        "sns.countplot(x='Survived', data=df)\n",
        "plt.title('Survival Count (0 = Died, 1 = Survived)')\n",
        "plt.xlabel('Survived')\n",
        "plt.ylabel('Count')\n",
        "plt.tight_layout()\n",
        "plt.show()"
      ],
      "metadata": {
        "id": "P33lFZOjCAc4"
      },
      "execution_count": null,
      "outputs": []
    },
    {
      "cell_type": "code",
      "source": [
        "print('Observation: Proportion survived = {:.2f}%'.format(df['Survived'].mean()*100))\n"
      ],
      "metadata": {
        "id": "yrNpRO5hBkyr"
      },
      "execution_count": null,
      "outputs": []
    },
    {
      "cell_type": "code",
      "source": [
        "plt.figure(figsize=(8,4))\n",
        "sns.countplot(x='Pclass', data=df, order=[1,2,3])\n",
        "plt.title('Passenger Class Distribution')\n",
        "plt.tight_layout()\n",
        "plt.show()"
      ],
      "metadata": {
        "id": "2V0vLtouBkwX"
      },
      "execution_count": null,
      "outputs": []
    },
    {
      "cell_type": "code",
      "source": [
        "plt.figure(figsize=(6,4))\n",
        "sns.countplot(x='Sex', data=df)\n",
        "plt.title('Gender Distribution')\n",
        "plt.tight_layout()\n",
        "plt.show()\n"
      ],
      "metadata": {
        "id": "E7G9_3xKBkuB"
      },
      "execution_count": null,
      "outputs": []
    },
    {
      "cell_type": "code",
      "source": [
        "print(df.columns.tolist())\n"
      ],
      "metadata": {
        "id": "ZSFnpgcEBkrt"
      },
      "execution_count": null,
      "outputs": []
    },
    {
      "cell_type": "code",
      "source": [
        "plt.figure(figsize=(8,5))\n",
        "plt.hist(df['Age'].dropna(), bins=30)\n",
        "plt.title('Age Distribution')\n",
        "plt.show()"
      ],
      "metadata": {
        "id": "NglPw-YcBkpD"
      },
      "execution_count": null,
      "outputs": []
    },
    {
      "cell_type": "code",
      "source": [
        "plt.figure(figsize=(8,5))\n",
        "plt.hist(df['Fare'].dropna(), bins=40)\n",
        "plt.title('Fare Distribution')\n",
        "plt.xlim(0, 200)\n",
        "plt.show()\n",
        "\n"
      ],
      "metadata": {
        "id": "Q27dpZCSBkmr"
      },
      "execution_count": null,
      "outputs": []
    },
    {
      "cell_type": "code",
      "source": [
        "#  Bivariate Analysis\n",
        "\n",
        "plt.figure(figsize=(8,5))\n",
        "sns.barplot(x='Pclass', y='Survived', data=df, estimator=np.mean)\n",
        "plt.title('Survival Rate by Class')\n",
        "plt.show()"
      ],
      "metadata": {
        "id": "wGN4HzpABkkE"
      },
      "execution_count": null,
      "outputs": []
    },
    {
      "cell_type": "code",
      "source": [
        "plt.figure(figsize=(6,4))\n",
        "sns.barplot(x='Sex', y='Survived', data=df, estimator=np.mean)\n",
        "plt.title('Survival Rate by Gender')\n",
        "plt.show()"
      ],
      "metadata": {
        "id": "AvADRC3YBkg4"
      },
      "execution_count": null,
      "outputs": []
    },
    {
      "cell_type": "code",
      "source": [
        "plt.figure(figsize=(8,6))\n",
        "sns.boxplot(x='Survived', y='Age', data=df)\n",
        "plt.title('Age Distribution by Survival')\n",
        "plt.show()\n"
      ],
      "metadata": {
        "id": "CqVywzVoBkdX"
      },
      "execution_count": null,
      "outputs": []
    },
    {
      "cell_type": "code",
      "source": [
        "plt.figure(figsize=(8,6))\n",
        "sns.boxplot(x='Survived', y='Fare', data=df)\n",
        "plt.title('Fare Distribution by Survival')\n",
        "plt.ylim(0,200)\n",
        "plt.show()\n"
      ],
      "metadata": {
        "id": "srerWXvdBkYy"
      },
      "execution_count": null,
      "outputs": []
    },
    {
      "cell_type": "code",
      "source": [
        "#  Correlation & Pairplot\n",
        "\n",
        "encoded_df = df.copy()\n",
        "# Encode only categorical columns, skip non-numeric text columns like Name, Ticket, Cabin\n",
        "encoded_df['Sex'] = encoded_df['Sex'].map({'male':0, 'female':1})\n",
        "encoded_df['Embarked'] = encoded_df['Embarked'].map({'S':0, 'C':1, 'Q':2})\n"
      ],
      "metadata": {
        "id": "JbB6z4X9EdlX"
      },
      "execution_count": null,
      "outputs": []
    },
    {
      "cell_type": "code",
      "source": [
        "# Select only numeric columns for correlation\n",
        "numeric_cols = encoded_df.select_dtypes(include=[np.number])\n"
      ],
      "metadata": {
        "id": "Y1fnz5cxE62Q"
      },
      "execution_count": null,
      "outputs": []
    },
    {
      "cell_type": "code",
      "source": [
        "plt.figure(figsize=(10,8))\n",
        "sns.heatmap(numeric_cols.corr(), annot=True, fmt='.2f', cmap='coolwarm')\n",
        "plt.title('Correlation Heatmap')\n",
        "plt.show()"
      ],
      "metadata": {
        "id": "0YQ9y4uZEdh1"
      },
      "execution_count": null,
      "outputs": []
    },
    {
      "cell_type": "code",
      "source": [
        "sns.pairplot(numeric_cols[['Survived','Pclass','Sex','Age','Fare']].dropna(), hue='Survived', diag_kind='hist', corner=True)\n",
        "plt.show()"
      ],
      "metadata": {
        "id": "TBN5icN4Edfc"
      },
      "execution_count": null,
      "outputs": []
    },
    {
      "cell_type": "code",
      "source": [],
      "metadata": {
        "id": "nGBcXwOkEdcq"
      },
      "execution_count": null,
      "outputs": []
    },
    {
      "cell_type": "code",
      "source": [],
      "metadata": {
        "id": "Sr8jKe8MEdaQ"
      },
      "execution_count": null,
      "outputs": []
    },
    {
      "cell_type": "code",
      "source": [],
      "metadata": {
        "id": "pkKXhlh6EdXh"
      },
      "execution_count": null,
      "outputs": []
    },
    {
      "cell_type": "code",
      "source": [],
      "metadata": {
        "id": "ybopU6jJEdVE"
      },
      "execution_count": null,
      "outputs": []
    },
    {
      "cell_type": "code",
      "source": [],
      "metadata": {
        "id": "b8LxGIntEdSs"
      },
      "execution_count": null,
      "outputs": []
    },
    {
      "cell_type": "code",
      "source": [],
      "metadata": {
        "id": "uhVsnpiJEdPo"
      },
      "execution_count": null,
      "outputs": []
    },
    {
      "cell_type": "code",
      "source": [],
      "metadata": {
        "id": "53uEJD77EdM_"
      },
      "execution_count": null,
      "outputs": []
    },
    {
      "cell_type": "code",
      "source": [],
      "metadata": {
        "id": "pfuDS8TSEdKZ"
      },
      "execution_count": null,
      "outputs": []
    },
    {
      "cell_type": "code",
      "source": [],
      "metadata": {
        "id": "ieRTbKPNEdHR"
      },
      "execution_count": null,
      "outputs": []
    },
    {
      "cell_type": "code",
      "source": [],
      "metadata": {
        "id": "QfzjaWC3EdFI"
      },
      "execution_count": null,
      "outputs": []
    },
    {
      "cell_type": "code",
      "source": [],
      "metadata": {
        "id": "Oa5EwC2hEdCi"
      },
      "execution_count": null,
      "outputs": []
    },
    {
      "cell_type": "code",
      "source": [],
      "metadata": {
        "id": "j82C1LSZEc_-"
      },
      "execution_count": null,
      "outputs": []
    }
  ]
}